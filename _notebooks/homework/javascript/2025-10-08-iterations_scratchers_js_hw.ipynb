{
 "cells": [
  {
   "cell_type": "raw",
   "id": "e80f6f8a",
   "metadata": {
    "vscode": {
     "languageId": "raw"
    }
   },
   "source": [
    "---\n",
    "title: Scratchers - JavaScript Homework Iterations\n",
    "description: Homework for Iterations lesson in JavaScript\n",
    "layout: post\n",
    "categories: [JavaScript]\n",
    "permalink: /javascript/iterations/scratchers-hw\n",
    "---"
   ]
  },
  {
   "cell_type": "markdown",
   "id": "eb0ef6f4",
   "metadata": {},
   "source": [
    "\n",
    "# 3.8 Iterations Homework in JavaScript\n",
    "\n",
    "Complete the 4 tasks below as homework:\n",
    "\n",
    "1. Uncomment the base code so you can work on adding what you need to produce the correct outputs  \n",
    "2. Use `console.log()` to display outputs  \n",
    "3. Some blanks (`_`) need to be replaced with numbers or code  \n",
    "4. Important!!! Under each JavaScript hack, be sure to add an image or screenshot of your outputs in console \n",
    "4. Have fun!\n",
    "\n"
   ]
  },
  {
   "cell_type": "markdown",
   "id": "59e26936",
   "metadata": {},
   "source": [
    "### 🧩 Task #1\n",
    "Write a `for` loop that prints the numbers **1 through 10**."
   ]
  },
  {
   "cell_type": "code",
   "execution_count": 18,
   "id": "1b6935a2",
   "metadata": {
    "vscode": {
     "languageId": "javascript"
    }
   },
   "outputs": [
    {
     "data": {
      "application/javascript": "// for (let i = _; i <= _; i++) {\n//     console.log(_);\n// }\nfor (let i = 1; i <= 10; i++) {\n    console.log(i);\n}\n",
      "text/plain": [
       "<IPython.core.display.Javascript object>"
      ]
     },
     "metadata": {},
     "output_type": "display_data"
    }
   ],
   "source": [
    "%%js\n",
    "// for (let i = _; i <= _; i++) {\n",
    "//     console.log(_);\n",
    "// }\n",
    "for (let i = 1; i <= 10; i++) {\n",
    "    console.log(i);\n",
    "}\n"
   ]
  },
  {
   "cell_type": "markdown",
   "id": "3a3af773",
   "metadata": {},
   "source": [
    "### 🧩 Task #2\n",
    "Write a `while` loop that prints the even numbers between **2 and 20**."
   ]
  },
  {
   "cell_type": "code",
   "execution_count": 19,
   "id": "c268a9c2",
   "metadata": {
    "vscode": {
     "languageId": "javascript"
    }
   },
   "outputs": [
    {
     "data": {
      "application/javascript": "// let num = _;\n// while (num <= _) {\n//     console.log(_);\n//     num += _;\n// }\nlet num = 1;\nwhile (num <= 10) {\n    console.log(num);\n    num += 1;\n}\n",
      "text/plain": [
       "<IPython.core.display.Javascript object>"
      ]
     },
     "metadata": {},
     "output_type": "display_data"
    }
   ],
   "source": [
    "%%js\n",
    "// let num = _;\n",
    "// while (num <= _) {\n",
    "//     console.log(_);\n",
    "//     num += _;\n",
    "// }\n",
    "let num = 1;\n",
    "while (num <= 10) {\n",
    "    console.log(num);\n",
    "    num += 1;\n",
    "}\n"
   ]
  },
  {
   "cell_type": "markdown",
   "id": "5b1ed81f",
   "metadata": {},
   "source": [
    "### 🧩 Task #3\n",
    "Make the following shape using iteration loops with the symbol `*`:\n",
    "```\n",
    "*\n",
    "**\n",
    "***\n",
    "****\n",
    "*****\n",
    "```"
   ]
  },
  {
   "cell_type": "code",
   "execution_count": 20,
   "id": "a002d4bd",
   "metadata": {
    "vscode": {
     "languageId": "javascript"
    }
   },
   "outputs": [
    {
     "data": {
      "application/javascript": "// let stars = \"\";\n// for (let i = _; i <= _; i++) {\n//     stars += \"*\";\n//     console.log(_);\n// }\nlet stars = \"\";\nfor (let i = 1; i <= 5; i++) {\n    stars += \"*\";\n    console.log(stars);\n}\n",
      "text/plain": [
       "<IPython.core.display.Javascript object>"
      ]
     },
     "metadata": {},
     "output_type": "display_data"
    }
   ],
   "source": [
    "%%js\n",
    "// let stars = \"\";\n",
    "// for (let i = _; i <= _; i++) {\n",
    "//     stars += \"*\";\n",
    "//     console.log(_);\n",
    "// }\n",
    "let stars = \"\";\n",
    "for (let i = 1; i <= 5; i++) {\n",
    "    stars += \"*\";\n",
    "    console.log(stars);\n",
    "}\n"
   ]
  },
  {
   "cell_type": "markdown",
   "id": "871d57b7",
   "metadata": {},
   "source": [
    "### 🧩 Task #4\n",
    "Use a loop to calculate the **sum of all numbers from 1 to 100**, and print the result."
   ]
  },
  {
   "cell_type": "code",
   "execution_count": 21,
   "id": "5bb0c3ab",
   "metadata": {
    "vscode": {
     "languageId": "javascript"
    }
   },
   "outputs": [
    {
     "data": {
      "application/javascript": "// let sum = _;\n// for (let i = _; i <= _; i++) {\n//     sum += _;\n// }\n// console.log(\"The sum is:\", _);\nlet sum = 0;\nfor (let i = 1; i <= 5; i++) {\n    sum += i;\n}\nconsole.log(\"The sum is:\", sum);\n",
      "text/plain": [
       "<IPython.core.display.Javascript object>"
      ]
     },
     "metadata": {},
     "output_type": "display_data"
    }
   ],
   "source": [
    "%%js\n",
    "// let sum = _;\n",
    "// for (let i = _; i <= _; i++) {\n",
    "//     sum += _;\n",
    "// }\n",
    "// console.log(\"The sum is:\", _);\n",
    "let sum = 0;\n",
    "for (let i = 1; i <= 5; i++) {\n",
    "    sum += i;\n",
    "}\n",
    "console.log(\"The sum is:\", sum);\n"
   ]
  },
  {
   "cell_type": "code",
   "execution_count": 22,
   "id": "43df012e",
   "metadata": {
    "vscode": {
     "languageId": "javascript"
    }
   },
   "outputs": [
    {
     "data": {
      "application/javascript": "\n// example of for...of loop, similar to Python's for...in loop\nlet fruits = [\"apple\", \"banana\", \"cherry\", \"strawberry\", \"orange\"];\nfor (let fruit of fruits) {\n    console.log(fruit);\n}\n",
      "text/plain": [
       "<IPython.core.display.Javascript object>"
      ]
     },
     "metadata": {},
     "output_type": "display_data"
    }
   ],
   "source": [
    "%%javascript\n",
    "\n",
    "// example of for...of loop, similar to Python's for...in loop\n",
    "let fruits = [\"apple\", \"banana\", \"cherry\", \"strawberry\", \"orange\"];\n",
    "for (let fruit of fruits) {\n",
    "    console.log(fruit);\n",
    "}"
   ]
  }
 ],
 "metadata": {
  "kernelspec": {
   "display_name": "venv (3.13.7)",
   "language": "python",
   "name": "python3"
  },
  "language_info": {
   "codemirror_mode": {
    "name": "ipython",
    "version": 3
   },
   "file_extension": ".py",
   "mimetype": "text/x-python",
   "name": "python",
   "nbconvert_exporter": "python",
   "pygments_lexer": "ipython3",
   "version": "3.13.7"
  }
 },
 "nbformat": 4,
 "nbformat_minor": 5
}
