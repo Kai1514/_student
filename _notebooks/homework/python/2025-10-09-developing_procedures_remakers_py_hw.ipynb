{
 "cells": [
  {
   "cell_type": "raw",
   "id": "29fdb64f",
   "metadata": {
    "vscode": {
     "languageId": "raw"
    }
   },
   "source": [
    "---\n",
    "toc: true\n",
    "layout: post\n",
    "categories: [Python]\n",
    "title: Remakers - 3.13 Developing Procedures Python Hacks\n",
    "description: \"Apply your skills to basic procedure development in Javascript.\"\n",
    "permalink: /python/developing-procedures/remakers-hw\n",
    "author: Krishna Visvanath, Sloane Sommers\n",
    "---"
   ]
  },
  {
   "cell_type": "markdown",
   "id": "51406078",
   "metadata": {},
   "source": [
    "### Q1 (Easy)\n",
    "Which of these procedures is named well, provide a **short** explanation of justification"
   ]
  },
  {
   "cell_type": "code",
   "execution_count": null,
   "id": "85877c5a",
   "metadata": {},
   "outputs": [],
   "source": [
    "def mix_ingredients():\n",
    "\n",
    "# Wrong. This is vague\n",
    "def do_it():\n",
    "\n",
    "def make_move():"
   ]
  },
  {
   "cell_type": "markdown",
   "id": "e05b98ef",
   "metadata": {},
   "source": [
    "**Explanation Here:**\n",
    "__ is right because.."
   ]
  },
  {
   "cell_type": "markdown",
   "id": "3b2e2e46",
   "metadata": {},
   "source": [
    "### Q2 (Medium)\n",
    "Finish the code to have a correctly named procedure"
   ]
  },
  {
   "cell_type": "code",
   "execution_count": 1,
   "id": "e6d4b833",
   "metadata": {},
   "outputs": [
    {
     "name": "stdout",
     "output_type": "stream",
     "text": [
      "Moving forward.\n",
      "Rotating 180 degrees.\n",
      "Moving forward again to complete left turn.\n"
     ]
    }
   ],
   "source": [
    "def step_turn_step():\n",
    "    move_forward()\n",
    "    rotate_180()\n",
    "    move_forward_again()\n",
    "\n",
    "##Todo: add corresponding procedure definitions\n",
    "def move_forward():\n",
    "    print(\"Moving forward.\")\n",
    "\n",
    "def rotate_180():\n",
    "    print(\"Rotating 180 degrees.\")\n",
    "\n",
    "def move_forward_again():\n",
    "    print(\"Moving forward again to complete left turn.\")\n",
    "\n",
    "# Run the procedure\n",
    "if __name__ == '__main__':\n",
    "    step_turn_step()"
   ]
  },
  {
   "cell_type": "markdown",
   "id": "81c68339",
   "metadata": {},
   "source": [
    "### Q3 (Hard)\n",
    "Write code to fulfill the requirements\n",
    "Doing a dance! 🕺💃\n",
    "Must have\n",
    "1. A shimmy left procedure\n",
    "- Print `super cool left slide`\n",
    "2. A shimmy right procedure, print `even cooler right slide`\n",
    "3. Doing a bow to the crowd, print `Great dance!`, `the audience claps at your bow!`"
   ]
  },
  {
   "cell_type": "code",
   "execution_count": 2,
   "id": "9f7c7c6f",
   "metadata": {},
   "outputs": [
    {
     "name": "stdout",
     "output_type": "stream",
     "text": [
      "Shifting left.\n",
      "Shifting right.\n",
      "Great dance!\n",
      "The audience claps at your bow!\n"
     ]
    }
   ],
   "source": [
    "##Code away!\n",
    "def shimmy_left():\n",
    "    print(\"Shifting left.\")\n",
    "\n",
    "def shimmy_right():\n",
    "    print(\"Shifting right.\")\n",
    "\n",
    "def bow_to_crowd():\n",
    "    print(\"Great dance!\")\n",
    "    print(\"The audience claps at your bow!\")\n",
    "    \n",
    "def doing_dance():\n",
    "    shimmy_left()\n",
    "    shimmy_right()\n",
    "    bow_to_crowd()\n",
    "    \n",
    "doing_dance()\n"
   ]
  }
 ],
 "metadata": {
  "kernelspec": {
   "display_name": "venv (3.13.7)",
   "language": "python",
   "name": "python3"
  },
  "language_info": {
   "codemirror_mode": {
    "name": "ipython",
    "version": 3
   },
   "file_extension": ".py",
   "mimetype": "text/x-python",
   "name": "python",
   "nbconvert_exporter": "python",
   "pygments_lexer": "ipython3",
   "version": "3.13.7"
  }
 },
 "nbformat": 4,
 "nbformat_minor": 5
}
